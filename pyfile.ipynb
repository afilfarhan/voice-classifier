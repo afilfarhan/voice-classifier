{
 "cells": [
  {
   "cell_type": "code",
   "execution_count": 3,
   "metadata": {},
   "outputs": [
    {
     "name": "stdout",
     "output_type": "stream",
     "text": [
      "4.28.1\n"
     ]
    }
   ],
   "source": [
    "#imports\n",
    "import pandas as pd\n",
    "import gc\n",
    "import re\n",
    "import numpy as np\n",
    "\n",
    "import warnings \n",
    "warnings.filterwarnings(\"ignore\")\n",
    "\n",
    "from tqdm import tqdm\n",
    "tqdm.pandas()\n",
    "# from imblearn.over_sampling import RandomOverSampler\n",
    "# from imblearn.under_sampling import RandomUnderSampler\n",
    "import torch\n",
    "import datasets\n",
    "import transformers\n",
    "print(transformers.__version__)"
   ]
  },
  {
   "cell_type": "code",
   "execution_count": 4,
   "metadata": {},
   "outputs": [
    {
     "name": "stdout",
     "output_type": "stream",
     "text": [
      "{0: 'cat', 1: 'dog'} \n",
      "\n",
      " {'cat': 0, 'dog': 1}\n"
     ]
    }
   ],
   "source": [
    "RATE_HZ = 16000 # resampling rate in Hz\n",
    "MAX_LENGTH = 160000 # maximum audio interval length to consider (= RATE_HZ * SECONDS)\n",
    "labels = ['cat', 'dog']\n",
    "label2id, id2label = dict(), dict()\n",
    "for i, label in enumerate(labels):\n",
    "    label2id[label] = i\n",
    "    id2label[i] = label\n",
    "\n",
    "print(id2label, '\\n\\n', label2id)"
   ]
  },
  {
   "cell_type": "code",
   "execution_count": 5,
   "metadata": {},
   "outputs": [
    {
     "name": "stdout",
     "output_type": "stream",
     "text": [
      "0.12.0+cu113\n"
     ]
    }
   ],
   "source": [
    "import torchaudio\n",
    "print(torchaudio.__version__)"
   ]
  },
  {
   "cell_type": "code",
   "execution_count": 8,
   "metadata": {},
   "outputs": [],
   "source": [
    "from pathlib import Path\n",
    "\n",
    "lang_counter = dict()\n",
    "\n",
    "def load_data():\n",
    "    file_list = []\n",
    "    label_list = []\n",
    "    for file in Path('D:\\ML\\cats_dogs').glob('*/*/*.wav'):\n",
    "        lang = re.match(r\"([a-z]+)\", file.stem).group(1)\n",
    "        file_list.append(file)\n",
    "        label_list.append(label2id[lang])\n",
    "    dd = pd.DataFrame()\n",
    "    dd['file'] = file_list\n",
    "    dd['label'] = label_list\n",
    "    return dd"
   ]
  },
  {
   "cell_type": "code",
   "execution_count": 9,
   "metadata": {},
   "outputs": [
    {
     "name": "stdout",
     "output_type": "stream",
     "text": [
      "                                             file  label\n",
      "0           D:\\ML\\cats_dogs\\test\\cats\\cat_110.wav      0\n",
      "1           D:\\ML\\cats_dogs\\test\\cats\\cat_112.wav      0\n",
      "2           D:\\ML\\cats_dogs\\test\\cats\\cat_115.wav      0\n",
      "3           D:\\ML\\cats_dogs\\test\\cats\\cat_126.wav      0\n",
      "4           D:\\ML\\cats_dogs\\test\\cats\\cat_129.wav      0\n",
      "..                                            ...    ...\n",
      "272  D:\\ML\\cats_dogs\\train\\dog\\dog_barking_94.wav      1\n",
      "273  D:\\ML\\cats_dogs\\train\\dog\\dog_barking_95.wav      1\n",
      "274  D:\\ML\\cats_dogs\\train\\dog\\dog_barking_96.wav      1\n",
      "275  D:\\ML\\cats_dogs\\train\\dog\\dog_barking_97.wav      1\n",
      "276  D:\\ML\\cats_dogs\\train\\dog\\dog_barking_98.wav      1\n",
      "\n",
      "[277 rows x 2 columns]\n",
      "Wall time: 17.3 ms\n"
     ]
    }
   ],
   "source": [
    "%%time\n",
    "dd = load_data()\n",
    "print(dd)"
   ]
  },
  {
   "cell_type": "code",
   "execution_count": null,
   "metadata": {},
   "outputs": [],
   "source": []
  }
 ],
 "metadata": {
  "kernelspec": {
   "display_name": "Python 3",
   "language": "python",
   "name": "python3"
  },
  "language_info": {
   "codemirror_mode": {
    "name": "ipython",
    "version": 3
   },
   "file_extension": ".py",
   "mimetype": "text/x-python",
   "name": "python",
   "nbconvert_exporter": "python",
   "pygments_lexer": "ipython3",
   "version": "3.7.15"
  },
  "orig_nbformat": 4
 },
 "nbformat": 4,
 "nbformat_minor": 2
}
