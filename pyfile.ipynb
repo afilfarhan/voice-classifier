{
 "cells": [
  {
   "cell_type": "code",
   "execution_count": 1,
   "metadata": {},
   "outputs": [
    {
     "name": "stdout",
     "output_type": "stream",
     "text": [
      "4.28.1\n"
     ]
    }
   ],
   "source": [
    "#imports\n",
    "import pandas as pd\n",
    "import gc\n",
    "import re\n",
    "import numpy as np\n",
    "\n",
    "import warnings \n",
    "warnings.filterwarnings(\"ignore\")\n",
    "\n",
    "from tqdm import tqdm\n",
    "tqdm.pandas()\n",
    "# from imblearn.over_sampling import RandomOverSampler\n",
    "# from imblearn.under_sampling import RandomUnderSampler\n",
    "import torch\n",
    "import datasets\n",
    "import transformers\n",
    "print(transformers.__version__)"
   ]
  },
  {
   "cell_type": "code",
   "execution_count": 2,
   "metadata": {},
   "outputs": [
    {
     "name": "stdout",
     "output_type": "stream",
     "text": [
      "{0: 'cat', 1: 'dog'} \n",
      "\n",
      " {'cat': 0, 'dog': 1}\n"
     ]
    }
   ],
   "source": [
    "RATE_HZ = 16000 # resampling rate in Hz\n",
    "MAX_LENGTH = 160000 # maximum audio interval length to consider (= RATE_HZ * SECONDS)\n",
    "labels = ['cat', 'dog']\n",
    "label2id, id2label = dict(), dict()\n",
    "for i, label in enumerate(labels):\n",
    "    label2id[label] = i\n",
    "    id2label[i] = label\n",
    "\n",
    "print(id2label, '\\n\\n', label2id)"
   ]
  },
  {
   "cell_type": "code",
   "execution_count": 3,
   "metadata": {},
   "outputs": [
    {
     "name": "stdout",
     "output_type": "stream",
     "text": [
      "0.12.0+cu113\n"
     ]
    }
   ],
   "source": [
    "import torchaudio\n",
    "print(torchaudio.__version__)"
   ]
  },
  {
   "cell_type": "code",
   "execution_count": 4,
   "metadata": {},
   "outputs": [],
   "source": [
    "from pathlib import Path\n",
    "\n",
    "lang_counter = dict()\n",
    "\n",
    "def load_data():\n",
    "    file_list = []\n",
    "    label_list = []\n",
    "    for file in Path('cats_dogs').glob('*/*/*.wav'):\n",
    "        lang = re.match(r\"([a-z]+)\", file.stem).group(1)\n",
    "        file_list.append(file)\n",
    "        label_list.append(label2id[lang])\n",
    "    dd = pd.DataFrame()\n",
    "    dd['file'] = file_list\n",
    "    dd['label'] = label_list\n",
    "    return dd"
   ]
  },
  {
   "cell_type": "code",
   "execution_count": 5,
   "metadata": {},
   "outputs": [
    {
     "name": "stdout",
     "output_type": "stream",
     "text": [
      "Wall time: 11.7 ms\n"
     ]
    },
    {
     "data": {
      "text/html": [
       "<div>\n",
       "<style scoped>\n",
       "    .dataframe tbody tr th:only-of-type {\n",
       "        vertical-align: middle;\n",
       "    }\n",
       "\n",
       "    .dataframe tbody tr th {\n",
       "        vertical-align: top;\n",
       "    }\n",
       "\n",
       "    .dataframe thead th {\n",
       "        text-align: right;\n",
       "    }\n",
       "</style>\n",
       "<table border=\"1\" class=\"dataframe\">\n",
       "  <thead>\n",
       "    <tr style=\"text-align: right;\">\n",
       "      <th></th>\n",
       "      <th>file</th>\n",
       "      <th>label</th>\n",
       "    </tr>\n",
       "  </thead>\n",
       "  <tbody>\n",
       "    <tr>\n",
       "      <th>20</th>\n",
       "      <td>cats_dogs\\test\\cats\\cat_3.wav</td>\n",
       "      <td>0</td>\n",
       "    </tr>\n",
       "    <tr>\n",
       "      <th>90</th>\n",
       "      <td>cats_dogs\\train\\cat\\cat_124.wav</td>\n",
       "      <td>0</td>\n",
       "    </tr>\n",
       "    <tr>\n",
       "      <th>232</th>\n",
       "      <td>cats_dogs\\train\\dog\\dog_barking_4.wav</td>\n",
       "      <td>1</td>\n",
       "    </tr>\n",
       "    <tr>\n",
       "      <th>276</th>\n",
       "      <td>cats_dogs\\train\\dog\\dog_barking_98.wav</td>\n",
       "      <td>1</td>\n",
       "    </tr>\n",
       "    <tr>\n",
       "      <th>261</th>\n",
       "      <td>cats_dogs\\train\\dog\\dog_barking_79.wav</td>\n",
       "      <td>1</td>\n",
       "    </tr>\n",
       "  </tbody>\n",
       "</table>\n",
       "</div>"
      ],
      "text/plain": [
       "                                       file  label\n",
       "20            cats_dogs\\test\\cats\\cat_3.wav      0\n",
       "90          cats_dogs\\train\\cat\\cat_124.wav      0\n",
       "232   cats_dogs\\train\\dog\\dog_barking_4.wav      1\n",
       "276  cats_dogs\\train\\dog\\dog_barking_98.wav      1\n",
       "261  cats_dogs\\train\\dog\\dog_barking_79.wav      1"
      ]
     },
     "execution_count": 5,
     "metadata": {},
     "output_type": "execute_result"
    }
   ],
   "source": [
    "%%time\n",
    "dd = load_data()\n",
    "dd.sample(5)"
   ]
  },
  {
   "cell_type": "code",
   "execution_count": 6,
   "metadata": {},
   "outputs": [
    {
     "data": {
      "text/plain": [
       "0    164\n",
       "1    113\n",
       "Name: label, dtype: int64"
      ]
     },
     "execution_count": 6,
     "metadata": {},
     "output_type": "execute_result"
    }
   ],
   "source": [
    "dd['label'].value_counts()"
   ]
  },
  {
   "cell_type": "code",
   "execution_count": 7,
   "metadata": {},
   "outputs": [
    {
     "name": "stderr",
     "output_type": "stream",
     "text": [
      "100%|██████████| 277/277 [00:00<00:00, 1108.85it/s]\n"
     ]
    }
   ],
   "source": [
    "def get_transform_audio(file):\n",
    "    audio,rate = torchaudio.load(str(file))\n",
    "    transform = torchaudio.transforms.Resample(rate,RATE_HZ)\n",
    "    audio = transform(audio).squeeze(0).numpy()\n",
    "    audio = audio[:MAX_LENGTH] # truncate to first part of audio to save RAM\n",
    "    return audio\n",
    "dd['audio'] = dd['file'].progress_apply(get_transform_audio)"
   ]
  },
  {
   "cell_type": "code",
   "execution_count": 9,
   "metadata": {},
   "outputs": [
    {
     "name": "stdout",
     "output_type": "stream",
     "text": [
      "                                       file  label  \\\n",
      "0           cats_dogs\\test\\cats\\cat_110.wav      0   \n",
      "1           cats_dogs\\test\\cats\\cat_112.wav      0   \n",
      "2           cats_dogs\\test\\cats\\cat_115.wav      0   \n",
      "3           cats_dogs\\test\\cats\\cat_126.wav      0   \n",
      "4           cats_dogs\\test\\cats\\cat_129.wav      0   \n",
      "..                                      ...    ...   \n",
      "272  cats_dogs\\train\\dog\\dog_barking_94.wav      1   \n",
      "273  cats_dogs\\train\\dog\\dog_barking_95.wav      1   \n",
      "274  cats_dogs\\train\\dog\\dog_barking_96.wav      1   \n",
      "275  cats_dogs\\train\\dog\\dog_barking_97.wav      1   \n",
      "276  cats_dogs\\train\\dog\\dog_barking_98.wav      1   \n",
      "\n",
      "                                                 audio  \n",
      "0    [0.0, 0.0, 0.0, 0.0, 0.0, 0.0, 0.0, 0.0, 0.0, ...  \n",
      "1    [0.0, 0.0, 0.0, 0.0, 0.0, 0.0, 0.0, 0.0, 0.0, ...  \n",
      "2    [0.0019836426, 0.002166748, 0.00039672852, -0....  \n",
      "3    [0.0, 0.0, 0.0, 0.0, 0.0, 0.0, 0.0, 0.0, 0.0, ...  \n",
      "4    [0.0, 0.0, 0.0, 0.0, 0.0, 0.0, 0.0, 0.0, 0.0, ...  \n",
      "..                                                 ...  \n",
      "272  [0.0006713867, 0.0011291504, 0.0014953613, 0.0...  \n",
      "273  [0.0009460449, 0.00036621094, -0.00018310547, ...  \n",
      "274  [-0.0032653809, -0.0031738281, -0.0030822754, ...  \n",
      "275  [-0.0006713867, -0.00091552734, -0.00091552734...  \n",
      "276  [-3.0517578e-05, -3.0517578e-05, 0.0, 0.0, -3....  \n",
      "\n",
      "[277 rows x 3 columns]\n"
     ]
    }
   ],
   "source": [
    "print(dd)"
   ]
  }
 ],
 "metadata": {
  "kernelspec": {
   "display_name": "Python 3",
   "language": "python",
   "name": "python3"
  },
  "language_info": {
   "codemirror_mode": {
    "name": "ipython",
    "version": 3
   },
   "file_extension": ".py",
   "mimetype": "text/x-python",
   "name": "python",
   "nbconvert_exporter": "python",
   "pygments_lexer": "ipython3",
   "version": "3.7.15"
  },
  "orig_nbformat": 4
 },
 "nbformat": 4,
 "nbformat_minor": 2
}
